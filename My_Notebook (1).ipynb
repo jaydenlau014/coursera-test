{
 "cells": [
  {
   "cell_type": "markdown",
   "id": "279c4862-a8e7-46ae-8e54-3ac7fe661ae7",
   "metadata": {},
   "source": [
    "<h1> My Jupyter Notebook on IBM Watson Studio </h1>"
   ]
  },
  {
   "cell_type": "code",
   "execution_count": null,
   "id": "23f11d8c-4902-457c-95a4-dc6ba9b6c088",
   "metadata": {},
   "outputs": [],
   "source": []
  },
  {
   "cell_type": "markdown",
   "id": "f88b3706-c836-4466-8175-c72a2415ff5d",
   "metadata": {},
   "source": [
    "<b>Lau Eng Hui</b>\n",
    "<p>Student</p>"
   ]
  },
  {
   "cell_type": "markdown",
   "id": "74952e9d-8cae-4adb-b042-f86d91481c96",
   "metadata": {},
   "source": [
    "<i>The main reason I interested in data science is I enjoy the problem-solving and statistical analysis. Currently, the artificial intelligence, blockchain and machine learning technologies are emerging and becoming part of human life. Thus, data science is very important as it involved in predictative modelling to foresee the event and give insight for business. </i>"
   ]
  },
  {
   "cell_type": "markdown",
   "id": "0b348632-28d6-4d22-b1a1-d43ab6fd2ca9",
   "metadata": {},
   "source": [
    "<h3>Below show the simple coding, which is simple mathematic problem solved by Python.</h3>"
   ]
  },
  {
   "cell_type": "code",
   "execution_count": 1,
   "id": "75b1094c-533e-427a-ba55-79c2882ae740",
   "metadata": {},
   "outputs": [
    {
     "data": {
      "text/plain": [
       "9"
      ]
     },
     "execution_count": 1,
     "metadata": {},
     "output_type": "execute_result"
    }
   ],
   "source": [
    "x = 5\n",
    "y = 4\n",
    "\n",
    "x + y"
   ]
  },
  {
   "cell_type": "markdown",
   "id": "889b6f98-aad7-47c7-9ad9-1ba5db19578a",
   "metadata": {
    "tags": []
   },
   "source": [
    "<h4>Horizontal Rule</h4>\n",
    "<p>There is horizontal rule below this paragraph.</p>\n",
    "<hr>\n",
    "<p>There is horizontal rule above this paragraph.</p>\n",
    "\n",
    "<h4>Bullet List</h4>\n",
    "<ul>\n",
    "    <li>First bullet</li>\n",
    "    <li>Second bullet</li>\n",
    "    <li>Third bullet</li>\n",
    "</ul> \n",
    "\n",
    "<h4>Numbered List</h4>\n",
    "<ol>\n",
    "    <li>First Number</li>\n",
    "    <li>Second Number</li>\n",
    "    <li>Third Number</li>\n",
    "</ol>\n",
    "\n",
    "<h4>Tables</h4>\n",
    "<table style=50%>\n",
    "    <tr>\n",
    "        <th>No.</th>\n",
    "        <th>Name</th>\n",
    "        <th>Age</th>\n",
    "    </tr>\n",
    "    <tr>\n",
    "        <td>1.</td>\n",
    "        <td>Jayden</td>\n",
    "        <td>45</td>\n",
    "    </tr>\n",
    "    <tr>\n",
    "        <td>2.</td>\n",
    "        <td>Niki</td>\n",
    "        <td>24</td>\n",
    "    </tr>\n",
    "    <tr>\n",
    "        <td>3.</td>\n",
    "        <td>Michael</td>\n",
    "        <td>35</td>\n",
    "    </tr>\n",
    "</table>\n",
    "\n",
    "<h4>Hyperlink</h4>\n",
    "<a href=\"https://www.youtube.com/\">Youtube Channel</a>\n",
    "\n",
    "<h4>Image</h4>\n",
    "<img src='cat.jpg' alt='This is a cat'>\n",
    "\n",
    "<h4>Blockquote</h4>\n",
    "<blockquote cite=\"https://en.wikipedia.org/wiki/Data_science#:~:text=Data%20science%20is%20an%20interdisciplinary,broad%20range%20of%20application%20domains.\"> \n",
    "    Data science is an interdisciplinary field that uses scientific methods, processes, algorithms and systems to extract knowledge and insights from noisy, structured and unstructured data, and apply knowledge from data across a broad range of application domains. Data science is related to data mining, machine learning and big data.\n",
    "</blockquote>\n",
    "\n",
    "<h4>Strikethrough</h4>\n",
    "<p>I like to eat <del>pineapple</del> apple.</p>"
   ]
  }
 ],
 "metadata": {
  "kernelspec": {
   "display_name": "Python 3 (ipykernel)",
   "language": "python",
   "name": "python3"
  },
  "language_info": {
   "codemirror_mode": {
    "name": "ipython",
    "version": 3
   },
   "file_extension": ".py",
   "mimetype": "text/x-python",
   "name": "python",
   "nbconvert_exporter": "python",
   "pygments_lexer": "ipython3",
   "version": "3.9.12"
  }
 },
 "nbformat": 4,
 "nbformat_minor": 5
}
